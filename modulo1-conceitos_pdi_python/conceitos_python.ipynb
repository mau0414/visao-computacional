{
 "cells": [
  {
   "cell_type": "code",
   "execution_count": 2,
   "metadata": {},
   "outputs": [
    {
     "data": {
      "text/plain": [
       "[2, 3, 4]"
      ]
     },
     "execution_count": 2,
     "metadata": {},
     "output_type": "execute_result"
    }
   ],
   "source": [
    "# operadores * e **\n",
    "# * desempacota o restante de um objeto e guarda em uma variavel\n",
    "vals = [1, 2, 3, 4]\n",
    "\n",
    "a, *resto = vals\n",
    "resto"
   ]
  },
  {
   "cell_type": "code",
   "execution_count": 3,
   "metadata": {},
   "outputs": [
    {
     "data": {
      "text/plain": [
       "[1, 2, 3, 4]"
      ]
     },
     "execution_count": 3,
     "metadata": {},
     "output_type": "execute_result"
    }
   ],
   "source": [
    "a = 1\n",
    "b = [2, 3, 4]\n",
    "\n",
    "vals = [a, *b]\n",
    "vals"
   ]
  },
  {
   "cell_type": "code",
   "execution_count": 5,
   "metadata": {},
   "outputs": [
    {
     "name": "stdout",
     "output_type": "stream",
     "text": [
      "(1, 2, 3)\n",
      "4\n"
     ]
    }
   ],
   "source": [
    "# permite enviar um numero indeterminado de argumentos e todo argumento posterior deve ser nomeado\n",
    "# para evitar isso pode-se deixar argumento com operador * por fim\n",
    "def func(*shape, arg):\n",
    "    print(shape)\n",
    "    print(arg)\n",
    "\n",
    "func(1, 2, 3, arg=4)"
   ]
  },
  {
   "cell_type": "code",
   "execution_count": 7,
   "metadata": {},
   "outputs": [
    {
     "name": "stdout",
     "output_type": "stream",
     "text": [
      "(1, 2, 3)\n",
      "{'name': 'messi', 'idade': 36}\n",
      "(1, 2, 3)\n",
      "{}\n"
     ]
    }
   ],
   "source": [
    "# operador ** faz a mesma coisa porem com argumentos que devem ser nomeados, produzindo um dicionario\n",
    "def func(*args, **kwargs):\n",
    "    print(args)\n",
    "    print(kwargs)\n",
    "\n",
    "func(1, 2, 3, name='messi', idade=36)\n",
    "func(1, 2, 3)"
   ]
  },
  {
   "cell_type": "code",
   "execution_count": 9,
   "metadata": {},
   "outputs": [
    {
     "name": "stdout",
     "output_type": "stream",
     "text": [
      "a\n",
      "b\n"
     ]
    }
   ],
   "source": [
    "# iteradores iteram sobre cada elemento de um obj iteravel a partir de next\n",
    "# iterador usados sobre dados/patchs (pacotes selecionados dos dados)\n",
    "# util para pegar primeira chave do dicionario\n",
    "\n",
    "vals = {'a': 1, 'b': 2, 'c': 3}\n",
    "\n",
    "iterador = iter(vals)\n",
    "print(next(iterador))\n",
    "print(next(iterador))"
   ]
  },
  {
   "cell_type": "code",
   "execution_count": 10,
   "metadata": {},
   "outputs": [],
   "source": [
    "# pytorch bem voltado ao desenvolvimento de classes e heranca\n",
    "# geralente classes sao herdadas e alteradas\n",
    "\n",
    "class Container:\n",
    "    def __init__(self, vals):\n",
    "        self.vals = vals\n",
    "\n",
    "    def soma(self, num):\n",
    "        return [num + val for val in self.vals] # list comprehension\n",
    "    \n",
    "    # metodos dunder (double underscore __metodo__) sao metodos que sobreescrevem metodos naturais de ferramentas do python\n",
    "\n",
    "    # o que acontece ao fazer container[1]\n",
    "    def __getitem__(self, index):\n",
    "        return self.vals[index]\n",
    "\n",
    "    # o que acontece ao fazer len(container)?\n",
    "    def __len__(self):\n",
    "        return len(self.vals)\n",
    "\n",
    "    # o que acontece se fizer container() tratando instancia como funcao?\n",
    "    def __call__(self, val):\n",
    "        # desenvolvimento qualquer de uma funcao\n",
    "        print(val)\n",
    "\n",
    "    # o que acontece ao fazer container + 2? soma em todos valores do vetor self.vals\n",
    "    def __add__(self, val):\n",
    "        self.vals = self.soma(val)"
   ]
  },
  {
   "cell_type": "code",
   "execution_count": 11,
   "metadata": {},
   "outputs": [
    {
     "data": {
      "text/plain": [
       "2"
      ]
     },
     "execution_count": 11,
     "metadata": {},
     "output_type": "execute_result"
    }
   ],
   "source": [
    "container = Container([1, 2, 3, 4])\n",
    "container[1]"
   ]
  },
  {
   "cell_type": "code",
   "execution_count": 18,
   "metadata": {},
   "outputs": [
    {
     "data": {
      "text/plain": [
       "[8, 9, 10, 11]"
      ]
     },
     "execution_count": 18,
     "metadata": {},
     "output_type": "execute_result"
    }
   ],
   "source": [
    "container + 1\n",
    "container.vals"
   ]
  },
  {
   "cell_type": "code",
   "execution_count": 20,
   "metadata": {},
   "outputs": [
    {
     "data": {
      "text/plain": [
       "4"
      ]
     },
     "execution_count": 20,
     "metadata": {},
     "output_type": "execute_result"
    }
   ],
   "source": [
    "len(container)"
   ]
  },
  {
   "cell_type": "code",
   "execution_count": 22,
   "metadata": {},
   "outputs": [
    {
     "name": "stdout",
     "output_type": "stream",
     "text": [
      "teste\n"
     ]
    }
   ],
   "source": [
    "container('teste')"
   ]
  },
  {
   "cell_type": "code",
   "execution_count": 23,
   "metadata": {},
   "outputs": [],
   "source": [
    "# heranca\n",
    "class SubContainer(Container):\n",
    "    def __init__(self, vals, msg):\n",
    "        super().__init__(vals)\n",
    "        self.msg = msg\n",
    "    \n",
    "    def __getitem__(self, index):\n",
    "        print(self.msg)\n",
    "        return super().__getitem__(index)"
   ]
  },
  {
   "cell_type": "code",
   "execution_count": 24,
   "metadata": {},
   "outputs": [
    {
     "name": "stdout",
     "output_type": "stream",
     "text": [
      "elemento do index 2\n"
     ]
    },
    {
     "data": {
      "text/plain": [
       "3"
      ]
     },
     "execution_count": 24,
     "metadata": {},
     "output_type": "execute_result"
    }
   ],
   "source": [
    "msg = 'elemento do index 2'\n",
    "container = SubContainer([1, 2, 3, 4], msg)\n",
    "container[2]"
   ]
  },
  {
   "cell_type": "code",
   "execution_count": 39,
   "metadata": {},
   "outputs": [],
   "source": [
    "# anotador: recurso recente da linguagem\n",
    "\n",
    "# para alterar o comportamento de uma funcao definida ret\n",
    "def ret(val):\n",
    "    return val\n",
    "\n",
    "# funcao que recebe uma funcao e retorna outra com alteracao no que a funcao passada faz\n",
    "def transform(func):\n",
    "    def new_func(val):\n",
    "        ret = func(val)\n",
    "        ret += 1\n",
    "        return ret\n",
    "    return new_func"
   ]
  },
  {
   "cell_type": "code",
   "execution_count": 40,
   "metadata": {},
   "outputs": [
    {
     "data": {
      "text/plain": [
       "3"
      ]
     },
     "execution_count": 40,
     "metadata": {},
     "output_type": "execute_result"
    }
   ],
   "source": [
    "new_func = transform(ret)\n",
    "new_func(2)"
   ]
  },
  {
   "cell_type": "code",
   "execution_count": 42,
   "metadata": {},
   "outputs": [],
   "source": [
    "# @transform eh o anotador que simplifica o que foi feito\n",
    "\n",
    "@transform\n",
    "def ret2(val):\n",
    "    return val"
   ]
  },
  {
   "cell_type": "code",
   "execution_count": 43,
   "metadata": {},
   "outputs": [
    {
     "data": {
      "text/plain": [
       "4"
      ]
     },
     "execution_count": 43,
     "metadata": {},
     "output_type": "execute_result"
    }
   ],
   "source": [
    "ret2(3)"
   ]
  },
  {
   "cell_type": "code",
   "execution_count": 45,
   "metadata": {},
   "outputs": [
    {
     "data": {
      "text/plain": [
       "array([[0.36100863, 0.40685106]])"
      ]
     },
     "execution_count": 45,
     "metadata": {},
     "output_type": "execute_result"
    }
   ],
   "source": [
    "# broadcasting\n",
    "\n",
    "import numpy as np\n",
    "from numpy.random import rand\n",
    "\n",
    "# rand retorna um array de valores aleatorios entre 0 e 1\n",
    "\n",
    "rand(1,2)"
   ]
  },
  {
   "cell_type": "code",
   "execution_count": 46,
   "metadata": {},
   "outputs": [],
   "source": [
    "# broadcasting apenas acontece em array1 operacao array2 se, para cada dimensao\n",
    "\n",
    "# 1. array2 tem dimensoes 1 ou inexistentes\n",
    "# 2. dimensoes de array1 e array2 sao iguais"
   ]
  },
  {
   "cell_type": "code",
   "execution_count": 47,
   "metadata": {},
   "outputs": [
    {
     "data": {
      "text/plain": [
       "array([[0.0356601, 0.0356601, 0.0356601],\n",
       "       [0.0356601, 0.0356601, 0.0356601]])"
      ]
     },
     "execution_count": 47,
     "metadata": {},
     "output_type": "execute_result"
    }
   ],
   "source": [
    "np.zeros((2, 3)) + rand(1) # formato para np.zeros ou np.ones((linhas, colunas))"
   ]
  },
  {
   "cell_type": "code",
   "execution_count": 59,
   "metadata": {},
   "outputs": [
    {
     "ename": "ValueError",
     "evalue": "operands could not be broadcast together with shapes (2,4,5) (2,1) ",
     "output_type": "error",
     "traceback": [
      "\u001b[0;31m---------------------------------------------------------------------------\u001b[0m",
      "\u001b[0;31mValueError\u001b[0m                                Traceback (most recent call last)",
      "Cell \u001b[0;32mIn[59], line 3\u001b[0m\n\u001b[1;32m      1\u001b[0m \u001b[38;5;66;03m#         2   4   5\u001b[39;00m\n\u001b[1;32m      2\u001b[0m \u001b[38;5;66;03m#             2   1  \u001b[39;00m\n\u001b[0;32m----> 3\u001b[0m np\u001b[38;5;241m.\u001b[39mzeros((\u001b[38;5;241m2\u001b[39m, \u001b[38;5;241m4\u001b[39m, \u001b[38;5;241m5\u001b[39m)) \u001b[38;5;241m+\u001b[39m rand(\u001b[38;5;241m2\u001b[39m,\u001b[38;5;241m1\u001b[39m)\n",
      "\u001b[0;31mValueError\u001b[0m: operands could not be broadcast together with shapes (2,4,5) (2,1) "
     ]
    }
   ],
   "source": [
    "#         2   4   5\n",
    "#             2   1  \n",
    "np.zeros((2, 4, 5)) + rand(2,1)"
   ]
  },
  {
   "cell_type": "code",
   "execution_count": 70,
   "metadata": {},
   "outputs": [
    {
     "data": {
      "text/plain": [
       "20.0"
      ]
     },
     "execution_count": 70,
     "metadata": {},
     "output_type": "execute_result"
    }
   ],
   "source": [
    "# supondo array de 3 dimensoes (pixels largura, pixels altura, canais rgb)\n",
    "# para somar 20 no red, 10 no green e 15 no blue em cada canal rgb\n",
    "\n",
    "img = np.zeros((256, 256, 3))\n",
    "\n",
    "vals = np.array([20, 10, 15])\n",
    "# vals = 20 caso fosse somar 20 em cada canal\n",
    "\n",
    "# broadcast\n",
    "# 256 256 3\n",
    "#         3\n",
    "\n",
    "img = img + vals\n",
    "img[0][1][0]\n"
   ]
  },
  {
   "cell_type": "code",
   "execution_count": 83,
   "metadata": {},
   "outputs": [
    {
     "data": {
      "text/plain": [
       "10.0"
      ]
     },
     "execution_count": 83,
     "metadata": {},
     "output_type": "execute_result"
    }
   ],
   "source": [
    "# para somar na primeira posicao deve-se fazer transpose por causa do broadcasting no caso abaixo\n",
    "img  = np.zeros((3, 256, 256))\n",
    "vals = np.array([2, 1, 10])\n",
    "\n",
    "# broadcast\n",
    "# 3 256 256\n",
    "#        3\n",
    "\n",
    "vals = vals.reshape(3, 1, 1)\n",
    "\n",
    "# broadcast\n",
    "# 3 256 256\n",
    "# 3  1   1\n",
    "\n",
    "img = img + vals\n",
    "\n",
    "img[2][2][1]\n",
    "\n",
    "\n"
   ]
  },
  {
   "cell_type": "code",
   "execution_count": 84,
   "metadata": {},
   "outputs": [
    {
     "data": {
      "text/plain": [
       "(2, 3, 1)"
      ]
     },
     "execution_count": 84,
     "metadata": {},
     "output_type": "execute_result"
    }
   ],
   "source": [
    "# outra operacao eh transpose\n",
    "arr = np.zeros((2, 1, 3))\n",
    "\n",
    "# faz a dimensao 0 ficar em 0, dimensao atual em 1 ir pra 2 e dimensao atual em 2 ir pra 1\n",
    "#                     0  1  2\n",
    "arr_t = arr.transpose(0, 2, 1)\n",
    "arr_t.shape\n",
    "\n"
   ]
  },
  {
   "cell_type": "code",
   "execution_count": null,
   "metadata": {},
   "outputs": [],
   "source": []
  }
 ],
 "metadata": {
  "kernelspec": {
   "display_name": "vc2024",
   "language": "python",
   "name": "python3"
  },
  "language_info": {
   "codemirror_mode": {
    "name": "ipython",
    "version": 3
   },
   "file_extension": ".py",
   "mimetype": "text/x-python",
   "name": "python",
   "nbconvert_exporter": "python",
   "pygments_lexer": "ipython3",
   "version": "3.12.2"
  }
 },
 "nbformat": 4,
 "nbformat_minor": 2
}
